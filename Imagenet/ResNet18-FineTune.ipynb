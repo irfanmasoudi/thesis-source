{
 "cells": [
  {
   "cell_type": "code",
   "execution_count": 1,
   "id": "aa9b4555-3189-485c-8bc0-02e0f7d01c27",
   "metadata": {
    "tags": []
   },
   "outputs": [
    {
     "name": "stderr",
     "output_type": "stream",
     "text": [
      "/opt/conda/lib/python3.10/site-packages/torchvision/io/image.py:13: UserWarning: Failed to load image Python extension: '/opt/conda/lib/python3.10/site-packages/torchvision/image.so: undefined symbol: _ZN5torch3jit17parseSchemaOrNameERKNSt7__cxx1112basic_stringIcSt11char_traitsIcESaIcEEE'If you don't plan on using image functionality from `torchvision.io`, you can ignore this warning. Otherwise, there might be something wrong with your environment. Did you have `libjpeg` or `libpng` installed before building `torchvision` from source?\n",
      "  warn(\n"
     ]
    },
    {
     "name": "stdout",
     "output_type": "stream",
     "text": [
      "cuda\n"
     ]
    }
   ],
   "source": [
    "import torch\n",
    "import torch.nn as nn\n",
    "import torch.optim as optim\n",
    "import torch.optim.lr_scheduler \n",
    "from torch.utils.data import Dataset, DataLoader\n",
    "from torchvision import datasets\n",
    "import torchvision.transforms as transforms\n",
    "from torchvision.datasets import ImageFolder\n",
    "import timm\n",
    "from torchvision.models import resnet18, ResNet18_Weights\n",
    "import time\n",
    "import matplotlib.pyplot as plt\n",
    "import pandas as pd\n",
    "import numpy as np\n",
    "from tqdm.notebook import tqdm\n",
    "from sklearn.metrics import confusion_matrix, accuracy_score\n",
    "import wandb\n",
    "torch.manual_seed(42)\n",
    "torch.cuda.manual_seed(42)\n",
    "\n",
    "device = 'cuda' if torch.cuda.is_available() else 'cpu'\n",
    "print(device)"
   ]
  },
  {
   "cell_type": "code",
   "execution_count": 2,
   "id": "0b2a49ce-d243-430a-8d25-f7d469e88678",
   "metadata": {
    "tags": []
   },
   "outputs": [
    {
     "name": "stderr",
     "output_type": "stream",
     "text": [
      "Failed to detect the name of this notebook, you can set it manually with the WANDB_NOTEBOOK_NAME environment variable to enable code saving.\n",
      "\u001b[34m\u001b[1mwandb\u001b[0m: Currently logged in as: \u001b[33mirfanmasoudi\u001b[0m (\u001b[33mdillema\u001b[0m). Use \u001b[1m`wandb login --relogin`\u001b[0m to force relogin\n"
     ]
    },
    {
     "data": {
      "text/plain": [
       "True"
      ]
     },
     "execution_count": 2,
     "metadata": {},
     "output_type": "execute_result"
    }
   ],
   "source": [
    "wandb.login()"
   ]
  },
  {
   "cell_type": "code",
   "execution_count": 3,
   "id": "2d975226-801a-4280-a129-3c872e18423c",
   "metadata": {
    "tags": []
   },
   "outputs": [],
   "source": [
    "train_dir = 'imagenet-combine-train/train/'\n",
    "valid_dir = 'imagenet-combine-train/val/'\n",
    "save_path = 'model_ckpt/model.pt'"
   ]
  },
  {
   "cell_type": "code",
   "execution_count": 4,
   "id": "944f0ef5-230e-4d85-8975-4617b647064f",
   "metadata": {
    "tags": []
   },
   "outputs": [],
   "source": [
    "class DILLEMADataset(Dataset):\n",
    "    def __init__(self, data_dir, transform=None):\n",
    "        self.data = ImageFolder(data_dir, transform=transform)\n",
    "    \n",
    "    def __len__(self):\n",
    "        return len(self.data)\n",
    "    \n",
    "    def __getitem__(self, idx):\n",
    "        return self.data[idx]\n",
    "   \n",
    "    @property\n",
    "    def classes(self):\n",
    "        return self.data.classes\n",
    "    \n",
    "    @property\n",
    "    def imgs(self):\n",
    "        return self.data.imgs\n",
    "    \n",
    "    @property\n",
    "    def class_to_idx(self):\n",
    "        return self.data.class_to_idx"
   ]
  },
  {
   "cell_type": "code",
   "execution_count": 5,
   "id": "20015c54-681c-412c-af73-967f31e1b2a9",
   "metadata": {
    "tags": []
   },
   "outputs": [],
   "source": [
    "preprocess = transforms.Compose([\n",
    "    transforms.Resize(256),\n",
    "    transforms.CenterCrop(224),\n",
    "    transforms.ToTensor(),\n",
    "    transforms.Normalize(mean=[0.485, 0.456, 0.406], std=[0.229, 0.224, 0.225]),\n",
    "])"
   ]
  },
  {
   "cell_type": "code",
   "execution_count": 6,
   "id": "3d30b13a-b348-4d48-8ddc-e4e84d33654a",
   "metadata": {
    "tags": []
   },
   "outputs": [],
   "source": [
    "data_train = DILLEMADataset(\n",
    "    data_dir=train_dir,\n",
    "    transform=preprocess\n",
    ")\n",
    "data_valid = DILLEMADataset(\n",
    "    data_dir=valid_dir,\n",
    "    transform=preprocess\n",
    ")"
   ]
  },
  {
   "cell_type": "code",
   "execution_count": 7,
   "id": "25173673-3014-470f-a75d-405d746f4da4",
   "metadata": {
    "tags": []
   },
   "outputs": [
    {
     "name": "stdout",
     "output_type": "stream",
     "text": [
      "150000\n"
     ]
    }
   ],
   "source": [
    "print(len(data_train)+len(data_valid))"
   ]
  },
  {
   "cell_type": "code",
   "execution_count": 8,
   "id": "d9a87fc8-c461-436f-8664-67326c7ae297",
   "metadata": {
    "tags": []
   },
   "outputs": [
    {
     "name": "stdout",
     "output_type": "stream",
     "text": [
      "1\n"
     ]
    },
    {
     "data": {
      "text/plain": [
       "tensor([[[ 0.2624,  0.3138,  0.3652,  ..., -0.4054, -0.4054, -0.4226],\n",
       "         [ 0.1768,  0.3138,  0.4166,  ..., -0.4054, -0.4226, -0.4397],\n",
       "         [ 0.2624,  0.3994,  0.4337,  ..., -0.3883, -0.4054, -0.4054],\n",
       "         ...,\n",
       "         [ 0.2282,  0.2453,  0.2282,  ...,  1.4269,  1.5810,  1.6838],\n",
       "         [ 0.2282,  0.2453,  0.2453,  ...,  1.4440,  1.4954,  1.6153],\n",
       "         [ 0.2282,  0.2453,  0.2453,  ...,  1.5468,  1.4954,  1.5297]],\n",
       "\n",
       "        [[-0.1275, -0.0924, -0.0574,  ..., -0.7577, -0.7577, -0.7752],\n",
       "         [-0.2500, -0.0924, -0.0049,  ..., -0.7752, -0.7927, -0.8102],\n",
       "         [-0.1625,  0.0301,  0.0476,  ..., -0.7577, -0.7752, -0.7752],\n",
       "         ...,\n",
       "         [-0.7052, -0.6702, -0.6527,  ...,  1.0630,  1.0980,  1.1331],\n",
       "         [-0.6877, -0.6527, -0.6352,  ...,  1.2731,  1.2206,  1.2731],\n",
       "         [-0.6877, -0.6527, -0.6352,  ...,  1.5357,  1.4132,  1.3782]],\n",
       "\n",
       "        [[-0.4101, -0.3753, -0.3230,  ..., -0.9504, -0.9504, -0.9853],\n",
       "         [-0.5321, -0.3753, -0.2881,  ..., -0.9678, -0.9853, -1.0027],\n",
       "         [-0.4450, -0.2707, -0.2358,  ..., -0.9504, -0.9678, -0.9853],\n",
       "         ...,\n",
       "         [-0.8633, -0.8633, -0.8110,  ...,  0.8099,  0.7925,  0.7925],\n",
       "         [-0.8633, -0.8458, -0.7936,  ...,  1.0888,  0.9668,  0.9319],\n",
       "         [-0.8458, -0.8284, -0.7936,  ...,  1.4025,  1.1934,  1.0714]]])"
      ]
     },
     "execution_count": 8,
     "metadata": {},
     "output_type": "execute_result"
    }
   ],
   "source": [
    "image, label = data_train[140]\n",
    "print(label)\n",
    "image"
   ]
  },
  {
   "cell_type": "code",
   "execution_count": 9,
   "id": "e738c128-316c-4bc9-a1c0-cb12ee8a5396",
   "metadata": {},
   "outputs": [],
   "source": [
    "idx_to_class = {v: k for k, v in data_train.class_to_idx.items()}"
   ]
  },
  {
   "cell_type": "code",
   "execution_count": 10,
   "id": "83e037a7-05b2-483c-b162-b1a156a049e4",
   "metadata": {},
   "outputs": [],
   "source": [
    "train_dataloader = DataLoader(data_train, batch_size=100, num_workers=8, shuffle=True)\n",
    "valid_dataloader = DataLoader(data_valid, batch_size=100, num_workers=8, shuffle=False)"
   ]
  },
  {
   "cell_type": "code",
   "execution_count": 11,
   "id": "b7098376-0fe8-487e-baae-f83bd43992a5",
   "metadata": {},
   "outputs": [],
   "source": [
    "# Initialize model\n",
    "weights = ResNet18_Weights.DEFAULT\n",
    "model = resnet18(weights=weights)"
   ]
  },
  {
   "cell_type": "code",
   "execution_count": 12,
   "id": "3bd8d1e3-8d97-47a3-953a-4270e4ad5b07",
   "metadata": {},
   "outputs": [],
   "source": [
    "# Unfreeze all layers\n",
    "for param in model.parameters():\n",
    "    param.requires_grad = True\n"
   ]
  },
  {
   "cell_type": "code",
   "execution_count": null,
   "id": "b06bb8b2-5068-4f4d-b963-48fc044aca2a",
   "metadata": {},
   "outputs": [],
   "source": [
    "# # Unfreeze last layer\n",
    "# for param in model.fc.parameters():\n",
    "#     param.requires_grad = True"
   ]
  },
  {
   "cell_type": "code",
   "execution_count": null,
   "id": "43f029de-b485-496b-86f7-189f992a55a4",
   "metadata": {},
   "outputs": [],
   "source": [
    "# class EarlyStopping:\n",
    "#     def __init__(self, tolerance=2, min_delta=0):\n",
    "\n",
    "#         self.tolerance = tolerance\n",
    "#         self.min_delta = min_delta\n",
    "#         self.counter = 0\n",
    "#         self.early_stop = False\n",
    "\n",
    "#     def __call__(self, train_loss, validation_loss):\n",
    "#         if (validation_loss - train_loss) > self.min_delta:\n",
    "#             self.counter +=1\n",
    "#             if self.counter >= self.tolerance:  \n",
    "#                 self.early_stop = True"
   ]
  },
  {
   "cell_type": "code",
   "execution_count": 13,
   "id": "849d467d-e9c4-45c0-91bc-75fb35f8bbfd",
   "metadata": {
    "tags": []
   },
   "outputs": [],
   "source": [
    "def save_checkpoint(model, optimizer, save_path, epoch):\n",
    "    torch.save({\n",
    "        'model_state_dict': model.state_dict(),\n",
    "        'optimizer_state_dict': optimizer.state_dict(),\n",
    "        'epoch': epoch\n",
    "    }, save_path)\n",
    "    \n",
    "    \n",
    "def load_checkpoint(model, optimizer, load_path):\n",
    "    checkpoint = torch.load(load_path)\n",
    "    model.load_state_dict(checkpoint['model_state_dict'])\n",
    "    optimizer.load_state_dict(checkpoint['optimizer_state_dict'])\n",
    "    epoch = checkpoint['epoch']\n",
    "    \n",
    "    return model, optimizer, epoch"
   ]
  },
  {
   "cell_type": "code",
   "execution_count": 14,
   "id": "7d9db77b-520c-4cfa-b1dd-4bcdc56776d6",
   "metadata": {},
   "outputs": [],
   "source": [
    "# Define loss and optimizer\n",
    "\n",
    "optimizer = optim.SGD(model.parameters(), lr=0.1, momentum=0.9, weight_decay=1e-4)\n",
    "scheduler = torch.optim.lr_scheduler.StepLR(optimizer, step_size=30, gamma=0.1)\n",
    "criterion = nn.CrossEntropyLoss()"
   ]
  },
  {
   "cell_type": "code",
   "execution_count": null,
   "id": "792fe025-d55e-46fb-adfe-b2c5b60766d0",
   "metadata": {},
   "outputs": [
    {
     "name": "stderr",
     "output_type": "stream",
     "text": [
      "cat: /sys/module/amdgpu/initstate: No such file or directory\n",
      "ERROR:root:Driver not initialized (amdgpu not found in modules)\n"
     ]
    },
    {
     "data": {
      "text/html": [
       "Tracking run with wandb version 0.16.0"
      ],
      "text/plain": [
       "<IPython.core.display.HTML object>"
      ]
     },
     "metadata": {},
     "output_type": "display_data"
    },
    {
     "data": {
      "text/html": [
       "Run data is saved locally in <code>/home/jovyan/work/code/imagenet/wandb/run-20231109_181636-6g4sd296</code>"
      ],
      "text/plain": [
       "<IPython.core.display.HTML object>"
      ]
     },
     "metadata": {},
     "output_type": "display_data"
    },
    {
     "data": {
      "text/html": [
       "Syncing run <strong><a href='https://wandb.ai/dillema/DILLEMA/runs/6g4sd296' target=\"_blank\">wild-armadillo-23</a></strong> to <a href='https://wandb.ai/dillema/DILLEMA' target=\"_blank\">Weights & Biases</a> (<a href='https://wandb.me/run' target=\"_blank\">docs</a>)<br/>"
      ],
      "text/plain": [
       "<IPython.core.display.HTML object>"
      ]
     },
     "metadata": {},
     "output_type": "display_data"
    },
    {
     "data": {
      "text/html": [
       " View project at <a href='https://wandb.ai/dillema/DILLEMA' target=\"_blank\">https://wandb.ai/dillema/DILLEMA</a>"
      ],
      "text/plain": [
       "<IPython.core.display.HTML object>"
      ]
     },
     "metadata": {},
     "output_type": "display_data"
    },
    {
     "data": {
      "text/html": [
       " View run at <a href='https://wandb.ai/dillema/DILLEMA/runs/6g4sd296' target=\"_blank\">https://wandb.ai/dillema/DILLEMA/runs/6g4sd296</a>"
      ],
      "text/plain": [
       "<IPython.core.display.HTML object>"
      ]
     },
     "metadata": {},
     "output_type": "display_data"
    },
    {
     "name": "stdout",
     "output_type": "stream",
     "text": [
      "Epoch 0 running\n"
     ]
    },
    {
     "data": {
      "application/vnd.jupyter.widget-view+json": {
       "model_id": "2d7d13846a87434dba8eed7876f07012",
       "version_major": 2,
       "version_minor": 0
      },
      "text/plain": [
       "Training:   0%|          | 0/1200 [00:00<?, ?it/s]"
      ]
     },
     "metadata": {},
     "output_type": "display_data"
    },
    {
     "name": "stdout",
     "output_type": "stream",
     "text": [
      "[Train #0] Loss: 0.0447 Acc: 15.9142% Time: 143.7249s\n"
     ]
    },
    {
     "data": {
      "application/vnd.jupyter.widget-view+json": {
       "model_id": "68e51a631fdd4c32a119e80e45655539",
       "version_major": 2,
       "version_minor": 0
      },
      "text/plain": [
       "Validation:   0%|          | 0/300 [00:00<?, ?it/s]"
      ]
     },
     "metadata": {},
     "output_type": "display_data"
    },
    {
     "name": "stdout",
     "output_type": "stream",
     "text": [
      "[Valid #0] Loss: 0.0345 Acc: 26.7200% Time: 176.2316s\n",
      "Epoch 1 running\n"
     ]
    },
    {
     "data": {
      "application/vnd.jupyter.widget-view+json": {
       "model_id": "c484c4de78df451bb5a863dc22aa4fb5",
       "version_major": 2,
       "version_minor": 0
      },
      "text/plain": [
       "Training:   0%|          | 0/1200 [00:00<?, ?it/s]"
      ]
     },
     "metadata": {},
     "output_type": "display_data"
    },
    {
     "name": "stdout",
     "output_type": "stream",
     "text": [
      "[Train #1] Loss: 0.0237 Acc: 44.8925% Time: 324.3369s\n"
     ]
    },
    {
     "data": {
      "application/vnd.jupyter.widget-view+json": {
       "model_id": "f65a3615c2d04d9c9861f43972bf8c7a",
       "version_major": 2,
       "version_minor": 0
      },
      "text/plain": [
       "Validation:   0%|          | 0/300 [00:00<?, ?it/s]"
      ]
     },
     "metadata": {},
     "output_type": "display_data"
    },
    {
     "name": "stdout",
     "output_type": "stream",
     "text": [
      "[Valid #1] Loss: 0.0243 Acc: 43.7700% Time: 356.1232s\n",
      "Epoch 2 running\n"
     ]
    },
    {
     "data": {
      "application/vnd.jupyter.widget-view+json": {
       "model_id": "30220e02ce4b4676a857e25ebdaac798",
       "version_major": 2,
       "version_minor": 0
      },
      "text/plain": [
       "Training:   0%|          | 0/1200 [00:00<?, ?it/s]"
      ]
     },
     "metadata": {},
     "output_type": "display_data"
    },
    {
     "name": "stdout",
     "output_type": "stream",
     "text": [
      "[Train #2] Loss: 0.0130 Acc: 66.8683% Time: 492.6542s\n"
     ]
    },
    {
     "data": {
      "application/vnd.jupyter.widget-view+json": {
       "model_id": "a79e4c72b387421084714c0ea271240b",
       "version_major": 2,
       "version_minor": 0
      },
      "text/plain": [
       "Validation:   0%|          | 0/300 [00:00<?, ?it/s]"
      ]
     },
     "metadata": {},
     "output_type": "display_data"
    },
    {
     "name": "stdout",
     "output_type": "stream",
     "text": [
      "[Valid #2] Loss: 0.0165 Acc: 58.9367% Time: 524.0300s\n",
      "Epoch 3 running\n"
     ]
    },
    {
     "data": {
      "application/vnd.jupyter.widget-view+json": {
       "model_id": "b69b821fbcd64e79bc6314cc32bcab12",
       "version_major": 2,
       "version_minor": 0
      },
      "text/plain": [
       "Training:   0%|          | 0/1200 [00:00<?, ?it/s]"
      ]
     },
     "metadata": {},
     "output_type": "display_data"
    },
    {
     "name": "stdout",
     "output_type": "stream",
     "text": [
      "[Train #3] Loss: 0.0065 Acc: 82.7725% Time: 671.0013s\n"
     ]
    },
    {
     "data": {
      "application/vnd.jupyter.widget-view+json": {
       "model_id": "36d7c3d7b4a745f4b4fa7b457b6f2013",
       "version_major": 2,
       "version_minor": 0
      },
      "text/plain": [
       "Validation:   0%|          | 0/300 [00:00<?, ?it/s]"
      ]
     },
     "metadata": {},
     "output_type": "display_data"
    },
    {
     "name": "stdout",
     "output_type": "stream",
     "text": [
      "[Valid #3] Loss: 0.0132 Acc: 66.2467% Time: 702.5880s\n",
      "Epoch 4 running\n"
     ]
    },
    {
     "data": {
      "application/vnd.jupyter.widget-view+json": {
       "model_id": "b3ee454ba65f452281509dc9235cc423",
       "version_major": 2,
       "version_minor": 0
      },
      "text/plain": [
       "Training:   0%|          | 0/1200 [00:00<?, ?it/s]"
      ]
     },
     "metadata": {},
     "output_type": "display_data"
    },
    {
     "name": "stdout",
     "output_type": "stream",
     "text": [
      "[Train #4] Loss: 0.0032 Acc: 91.8558% Time: 838.2601s\n"
     ]
    },
    {
     "data": {
      "application/vnd.jupyter.widget-view+json": {
       "model_id": "a7b0eb9636394f36ac8906f912eae179",
       "version_major": 2,
       "version_minor": 0
      },
      "text/plain": [
       "Validation:   0%|          | 0/300 [00:00<?, ?it/s]"
      ]
     },
     "metadata": {},
     "output_type": "display_data"
    },
    {
     "name": "stdout",
     "output_type": "stream",
     "text": [
      "[Valid #4] Loss: 0.0096 Acc: 75.0067% Time: 870.1852s\n",
      "Epoch 5 running\n"
     ]
    },
    {
     "data": {
      "application/vnd.jupyter.widget-view+json": {
       "model_id": "729db1a3a29842a68fb46cccd66d31ae",
       "version_major": 2,
       "version_minor": 0
      },
      "text/plain": [
       "Training:   0%|          | 0/1200 [00:00<?, ?it/s]"
      ]
     },
     "metadata": {},
     "output_type": "display_data"
    },
    {
     "name": "stdout",
     "output_type": "stream",
     "text": [
      "[Train #5] Loss: 0.0016 Acc: 96.3500% Time: 1005.8755s\n"
     ]
    },
    {
     "data": {
      "application/vnd.jupyter.widget-view+json": {
       "model_id": "0f754dee5b7345de9a74113fa1afda9f",
       "version_major": 2,
       "version_minor": 0
      },
      "text/plain": [
       "Validation:   0%|          | 0/300 [00:00<?, ?it/s]"
      ]
     },
     "metadata": {},
     "output_type": "display_data"
    },
    {
     "name": "stdout",
     "output_type": "stream",
     "text": [
      "[Valid #5] Loss: 0.0068 Acc: 82.4567% Time: 1037.5688s\n",
      "Epoch 6 running\n"
     ]
    },
    {
     "data": {
      "application/vnd.jupyter.widget-view+json": {
       "model_id": "192ada7405404c03b08f90007aba4515",
       "version_major": 2,
       "version_minor": 0
      },
      "text/plain": [
       "Training:   0%|          | 0/1200 [00:00<?, ?it/s]"
      ]
     },
     "metadata": {},
     "output_type": "display_data"
    },
    {
     "name": "stdout",
     "output_type": "stream",
     "text": [
      "[Train #6] Loss: 0.0007 Acc: 98.9058% Time: 1186.2472s\n"
     ]
    },
    {
     "data": {
      "application/vnd.jupyter.widget-view+json": {
       "model_id": "593e239a321c41b4b21ee16882291253",
       "version_major": 2,
       "version_minor": 0
      },
      "text/plain": [
       "Validation:   0%|          | 0/300 [00:00<?, ?it/s]"
      ]
     },
     "metadata": {},
     "output_type": "display_data"
    },
    {
     "name": "stdout",
     "output_type": "stream",
     "text": [
      "[Valid #6] Loss: 0.0034 Acc: 91.8867% Time: 1217.9366s\n",
      "Epoch 7 running\n"
     ]
    },
    {
     "data": {
      "application/vnd.jupyter.widget-view+json": {
       "model_id": "457b7b8b633c457ea71a0dea9b01a5df",
       "version_major": 2,
       "version_minor": 0
      },
      "text/plain": [
       "Training:   0%|          | 0/1200 [00:00<?, ?it/s]"
      ]
     },
     "metadata": {},
     "output_type": "display_data"
    },
    {
     "name": "stdout",
     "output_type": "stream",
     "text": [
      "[Train #7] Loss: 0.0002 Acc: 99.8933% Time: 1367.8048s\n"
     ]
    },
    {
     "data": {
      "application/vnd.jupyter.widget-view+json": {
       "model_id": "b8f29567e6ee492491ccd3a9b26f0588",
       "version_major": 2,
       "version_minor": 0
      },
      "text/plain": [
       "Validation:   0%|          | 0/300 [00:00<?, ?it/s]"
      ]
     },
     "metadata": {},
     "output_type": "display_data"
    },
    {
     "name": "stdout",
     "output_type": "stream",
     "text": [
      "[Valid #7] Loss: 0.0016 Acc: 97.1233% Time: 1399.8439s\n",
      "Epoch 8 running\n"
     ]
    },
    {
     "data": {
      "application/vnd.jupyter.widget-view+json": {
       "model_id": "cabc5ecdc38f435b83ed3d481854de97",
       "version_major": 2,
       "version_minor": 0
      },
      "text/plain": [
       "Training:   0%|          | 0/1200 [00:00<?, ?it/s]"
      ]
     },
     "metadata": {},
     "output_type": "display_data"
    },
    {
     "name": "stdout",
     "output_type": "stream",
     "text": [
      "[Train #8] Loss: 0.0001 Acc: 99.9850% Time: 1548.0314s\n"
     ]
    },
    {
     "data": {
      "application/vnd.jupyter.widget-view+json": {
       "model_id": "37253898ef1446daa9e695bf37b3973e",
       "version_major": 2,
       "version_minor": 0
      },
      "text/plain": [
       "Validation:   0%|          | 0/300 [00:00<?, ?it/s]"
      ]
     },
     "metadata": {},
     "output_type": "display_data"
    },
    {
     "name": "stdout",
     "output_type": "stream",
     "text": [
      "[Valid #8] Loss: 0.0016 Acc: 97.7067% Time: 1580.0668s\n",
      "Epoch 9 running\n"
     ]
    },
    {
     "data": {
      "application/vnd.jupyter.widget-view+json": {
       "model_id": "98542be4b589477d86e6fa8b4a23b508",
       "version_major": 2,
       "version_minor": 0
      },
      "text/plain": [
       "Training:   0%|          | 0/1200 [00:00<?, ?it/s]"
      ]
     },
     "metadata": {},
     "output_type": "display_data"
    },
    {
     "name": "stdout",
     "output_type": "stream",
     "text": [
      "[Train #9] Loss: 0.0001 Acc: 99.9925% Time: 1729.8351s\n"
     ]
    },
    {
     "data": {
      "application/vnd.jupyter.widget-view+json": {
       "model_id": "0ea3ca7856b844c091e9116702b14216",
       "version_major": 2,
       "version_minor": 0
      },
      "text/plain": [
       "Validation:   0%|          | 0/300 [00:00<?, ?it/s]"
      ]
     },
     "metadata": {},
     "output_type": "display_data"
    },
    {
     "name": "stdout",
     "output_type": "stream",
     "text": [
      "[Valid #9] Loss: 0.0018 Acc: 97.8233% Time: 1761.4512s\n",
      "Epoch 10 running\n"
     ]
    },
    {
     "data": {
      "application/vnd.jupyter.widget-view+json": {
       "model_id": "295436919021479780d2f42c9591dd7c",
       "version_major": 2,
       "version_minor": 0
      },
      "text/plain": [
       "Training:   0%|          | 0/1200 [00:00<?, ?it/s]"
      ]
     },
     "metadata": {},
     "output_type": "display_data"
    },
    {
     "name": "stdout",
     "output_type": "stream",
     "text": [
      "[Train #10] Loss: 0.0001 Acc: 99.9933% Time: 1910.0851s\n"
     ]
    },
    {
     "data": {
      "application/vnd.jupyter.widget-view+json": {
       "model_id": "df474a69603646b68e60c93674d57c53",
       "version_major": 2,
       "version_minor": 0
      },
      "text/plain": [
       "Validation:   0%|          | 0/300 [00:00<?, ?it/s]"
      ]
     },
     "metadata": {},
     "output_type": "display_data"
    },
    {
     "name": "stdout",
     "output_type": "stream",
     "text": [
      "[Valid #10] Loss: 0.0019 Acc: 97.8267% Time: 1942.5050s\n",
      "Epoch 11 running\n"
     ]
    },
    {
     "data": {
      "application/vnd.jupyter.widget-view+json": {
       "model_id": "a40e8f5c566f49c3bb1541d5ace2e842",
       "version_major": 2,
       "version_minor": 0
      },
      "text/plain": [
       "Training:   0%|          | 0/1200 [00:00<?, ?it/s]"
      ]
     },
     "metadata": {},
     "output_type": "display_data"
    },
    {
     "name": "stdout",
     "output_type": "stream",
     "text": [
      "[Train #11] Loss: 0.0003 Acc: 99.9117% Time: 2090.1973s\n"
     ]
    },
    {
     "data": {
      "application/vnd.jupyter.widget-view+json": {
       "model_id": "f90c9401ebf947b69d28b3d4bcd01f1a",
       "version_major": 2,
       "version_minor": 0
      },
      "text/plain": [
       "Validation:   0%|          | 0/300 [00:00<?, ?it/s]"
      ]
     },
     "metadata": {},
     "output_type": "display_data"
    },
    {
     "name": "stdout",
     "output_type": "stream",
     "text": [
      "[Valid #11] Loss: 0.0194 Acc: 54.1267% Time: 2122.1813s\n",
      "Epoch 12 running\n"
     ]
    },
    {
     "data": {
      "application/vnd.jupyter.widget-view+json": {
       "model_id": "1f572df5181648588b2d67d5e3d58628",
       "version_major": 2,
       "version_minor": 0
      },
      "text/plain": [
       "Training:   0%|          | 0/1200 [00:00<?, ?it/s]"
      ]
     },
     "metadata": {},
     "output_type": "display_data"
    },
    {
     "name": "stdout",
     "output_type": "stream",
     "text": [
      "[Train #12] Loss: 0.0209 Acc: 52.3033% Time: 2261.3466s\n"
     ]
    },
    {
     "data": {
      "application/vnd.jupyter.widget-view+json": {
       "model_id": "d7ba284442dc46c5af0e0c36aa653187",
       "version_major": 2,
       "version_minor": 0
      },
      "text/plain": [
       "Validation:   0%|          | 0/300 [00:00<?, ?it/s]"
      ]
     },
     "metadata": {},
     "output_type": "display_data"
    },
    {
     "name": "stdout",
     "output_type": "stream",
     "text": [
      "[Valid #12] Loss: 0.0165 Acc: 59.8733% Time: 2292.5287s\n",
      "Epoch 13 running\n"
     ]
    },
    {
     "data": {
      "application/vnd.jupyter.widget-view+json": {
       "model_id": "63153bf86a614f4d9698fafcd1035a5f",
       "version_major": 2,
       "version_minor": 0
      },
      "text/plain": [
       "Training:   0%|          | 0/1200 [00:00<?, ?it/s]"
      ]
     },
     "metadata": {},
     "output_type": "display_data"
    },
    {
     "name": "stdout",
     "output_type": "stream",
     "text": [
      "[Train #13] Loss: 0.0052 Acc: 86.5958% Time: 2440.3897s\n"
     ]
    },
    {
     "data": {
      "application/vnd.jupyter.widget-view+json": {
       "model_id": "f9b1ed32b3c644a280072a45179f169e",
       "version_major": 2,
       "version_minor": 0
      },
      "text/plain": [
       "Validation:   0%|          | 0/300 [00:00<?, ?it/s]"
      ]
     },
     "metadata": {},
     "output_type": "display_data"
    },
    {
     "name": "stdout",
     "output_type": "stream",
     "text": [
      "[Valid #13] Loss: 0.0112 Acc: 71.4700% Time: 2471.8030s\n",
      "Epoch 14 running\n"
     ]
    },
    {
     "data": {
      "application/vnd.jupyter.widget-view+json": {
       "model_id": "a96cb5df8738417e98ecb44511baa6aa",
       "version_major": 2,
       "version_minor": 0
      },
      "text/plain": [
       "Training:   0%|          | 0/1200 [00:00<?, ?it/s]"
      ]
     },
     "metadata": {},
     "output_type": "display_data"
    },
    {
     "name": "stdout",
     "output_type": "stream",
     "text": [
      "[Train #14] Loss: 0.0017 Acc: 95.9325% Time: 2609.8796s\n"
     ]
    },
    {
     "data": {
      "application/vnd.jupyter.widget-view+json": {
       "model_id": "43c8a374b53d4eb7aebaa56aec4108a3",
       "version_major": 2,
       "version_minor": 0
      },
      "text/plain": [
       "Validation:   0%|          | 0/300 [00:00<?, ?it/s]"
      ]
     },
     "metadata": {},
     "output_type": "display_data"
    },
    {
     "name": "stdout",
     "output_type": "stream",
     "text": [
      "[Valid #14] Loss: 0.0053 Acc: 86.4133% Time: 2642.3340s\n",
      "Epoch 15 running\n"
     ]
    },
    {
     "data": {
      "application/vnd.jupyter.widget-view+json": {
       "model_id": "7be4228cdb8543e9bca5599562b94774",
       "version_major": 2,
       "version_minor": 0
      },
      "text/plain": [
       "Training:   0%|          | 0/1200 [00:00<?, ?it/s]"
      ]
     },
     "metadata": {},
     "output_type": "display_data"
    },
    {
     "name": "stdout",
     "output_type": "stream",
     "text": [
      "[Train #15] Loss: 0.0004 Acc: 99.4725% Time: 2791.8138s\n"
     ]
    },
    {
     "data": {
      "application/vnd.jupyter.widget-view+json": {
       "model_id": "5f24f6e31caf482682fa49d56ab41aba",
       "version_major": 2,
       "version_minor": 0
      },
      "text/plain": [
       "Validation:   0%|          | 0/300 [00:00<?, ?it/s]"
      ]
     },
     "metadata": {},
     "output_type": "display_data"
    },
    {
     "name": "stdout",
     "output_type": "stream",
     "text": [
      "[Valid #15] Loss: 0.0017 Acc: 96.4500% Time: 2823.4891s\n",
      "Epoch 16 running\n"
     ]
    },
    {
     "data": {
      "application/vnd.jupyter.widget-view+json": {
       "model_id": "cbd7ec729a764b889c359e6f2719dc96",
       "version_major": 2,
       "version_minor": 0
      },
      "text/plain": [
       "Training:   0%|          | 0/1200 [00:00<?, ?it/s]"
      ]
     },
     "metadata": {},
     "output_type": "display_data"
    },
    {
     "name": "stdout",
     "output_type": "stream",
     "text": [
      "[Train #16] Loss: 0.0001 Acc: 99.9783% Time: 2962.7630s\n"
     ]
    },
    {
     "data": {
      "application/vnd.jupyter.widget-view+json": {
       "model_id": "458ed7ad71cb4af88a1dc17ce1c1d6b4",
       "version_major": 2,
       "version_minor": 0
      },
      "text/plain": [
       "Validation:   0%|          | 0/300 [00:00<?, ?it/s]"
      ]
     },
     "metadata": {},
     "output_type": "display_data"
    },
    {
     "name": "stdout",
     "output_type": "stream",
     "text": [
      "[Valid #16] Loss: 0.0014 Acc: 97.9233% Time: 2994.4506s\n",
      "Epoch 17 running\n"
     ]
    },
    {
     "data": {
      "application/vnd.jupyter.widget-view+json": {
       "model_id": "13cf2e60f0a04183b1736a4ac4875709",
       "version_major": 2,
       "version_minor": 0
      },
      "text/plain": [
       "Training:   0%|          | 0/1200 [00:00<?, ?it/s]"
      ]
     },
     "metadata": {},
     "output_type": "display_data"
    },
    {
     "name": "stdout",
     "output_type": "stream",
     "text": [
      "[Train #17] Loss: 0.0001 Acc: 99.9917% Time: 3133.9185s\n"
     ]
    },
    {
     "data": {
      "application/vnd.jupyter.widget-view+json": {
       "model_id": "088ef48aa585429181d0556c4eade7a8",
       "version_major": 2,
       "version_minor": 0
      },
      "text/plain": [
       "Validation:   0%|          | 0/300 [00:00<?, ?it/s]"
      ]
     },
     "metadata": {},
     "output_type": "display_data"
    },
    {
     "name": "stdout",
     "output_type": "stream",
     "text": [
      "[Valid #17] Loss: 0.0016 Acc: 98.1133% Time: 3165.6885s\n",
      "Epoch 18 running\n"
     ]
    },
    {
     "data": {
      "application/vnd.jupyter.widget-view+json": {
       "model_id": "55eced0d117941829303cd485d186159",
       "version_major": 2,
       "version_minor": 0
      },
      "text/plain": [
       "Training:   0%|          | 0/1200 [00:00<?, ?it/s]"
      ]
     },
     "metadata": {},
     "output_type": "display_data"
    },
    {
     "name": "stdout",
     "output_type": "stream",
     "text": [
      "[Train #18] Loss: 0.0001 Acc: 99.9875% Time: 3305.5278s\n"
     ]
    },
    {
     "data": {
      "application/vnd.jupyter.widget-view+json": {
       "model_id": "2942e732cc1e4ec2ba08fe18bfd366ea",
       "version_major": 2,
       "version_minor": 0
      },
      "text/plain": [
       "Validation:   0%|          | 0/300 [00:00<?, ?it/s]"
      ]
     },
     "metadata": {},
     "output_type": "display_data"
    },
    {
     "name": "stdout",
     "output_type": "stream",
     "text": [
      "[Valid #18] Loss: 0.0019 Acc: 98.0333% Time: 3336.8630s\n",
      "Epoch 19 running\n"
     ]
    },
    {
     "data": {
      "application/vnd.jupyter.widget-view+json": {
       "model_id": "c563261ceb3a4bff87c81de1cdb3cc33",
       "version_major": 2,
       "version_minor": 0
      },
      "text/plain": [
       "Training:   0%|          | 0/1200 [00:00<?, ?it/s]"
      ]
     },
     "metadata": {},
     "output_type": "display_data"
    },
    {
     "name": "stdout",
     "output_type": "stream",
     "text": [
      "[Train #19] Loss: 0.0002 Acc: 99.9792% Time: 3485.8184s\n"
     ]
    },
    {
     "data": {
      "application/vnd.jupyter.widget-view+json": {
       "model_id": "2f47c2d431e24c4e9c81aa77c503f0e2",
       "version_major": 2,
       "version_minor": 0
      },
      "text/plain": [
       "Validation:   0%|          | 0/300 [00:00<?, ?it/s]"
      ]
     },
     "metadata": {},
     "output_type": "display_data"
    },
    {
     "name": "stdout",
     "output_type": "stream",
     "text": [
      "[Valid #19] Loss: 0.0021 Acc: 97.6000% Time: 3517.5316s\n",
      "Epoch 20 running\n"
     ]
    },
    {
     "data": {
      "application/vnd.jupyter.widget-view+json": {
       "model_id": "58295460c4be4ea7babfefc93b88896f",
       "version_major": 2,
       "version_minor": 0
      },
      "text/plain": [
       "Training:   0%|          | 0/1200 [00:00<?, ?it/s]"
      ]
     },
     "metadata": {},
     "output_type": "display_data"
    },
    {
     "name": "stdout",
     "output_type": "stream",
     "text": [
      "[Train #20] Loss: 0.0001 Acc: 99.9850% Time: 3657.6650s\n"
     ]
    },
    {
     "data": {
      "application/vnd.jupyter.widget-view+json": {
       "model_id": "0738303020cd421f8a55431df5d62df0",
       "version_major": 2,
       "version_minor": 0
      },
      "text/plain": [
       "Validation:   0%|          | 0/300 [00:00<?, ?it/s]"
      ]
     },
     "metadata": {},
     "output_type": "display_data"
    }
   ],
   "source": [
    "#### Train model\n",
    "train_loss=[]\n",
    "train_accuracy=[]\n",
    "valid_loss=[]\n",
    "valid_accuracy=[]\n",
    "\n",
    "wandb.init(\n",
    "    project=\"DILLEMA\", \n",
    "    config={\"architecture\": \"ResNet18\",\n",
    "            \"dataset\": \"Imagenet1K\",\n",
    "            \"epochs\": 90,\n",
    "      })\n",
    "\n",
    "num_epochs = 90   #(set no of epochs)\n",
    "start_time = time.time() #(for showing time)\n",
    "model.to(device)\n",
    "# Start loop\n",
    "for epoch in range(num_epochs): #(loop for every epoch)\n",
    "    print(\"Epoch {} running\".format(epoch)) #(printing message)\n",
    "    \"\"\" Training Phase \"\"\"\n",
    "    model.train()    #(training model)\n",
    "    running_loss = 0.   #(set loss 0)\n",
    "    running_corrects = 0 \n",
    "    # load a batch data of images\n",
    "    for inputs, labels in tqdm(train_dataloader, desc=\"Training\"):\n",
    "        inputs, labels = inputs.to(device), labels.to(device)\n",
    "        # forward inputs and get output\n",
    "        optimizer.zero_grad()\n",
    "        outputs = model(inputs)\n",
    "        _, preds = torch.max(outputs, 1)\n",
    "        loss = criterion(outputs, labels)\n",
    "        # get loss value and update the network weights\n",
    "        loss.backward()\n",
    "        optimizer.step()\n",
    "        running_loss += loss.item()\n",
    "        running_corrects += torch.sum(preds == labels.data).item()\n",
    "    train_epoch_loss = running_loss / len(data_train)\n",
    "    train_epoch_acc = running_corrects / len(data_train) * 100.\n",
    "    # Append result\n",
    "    train_loss.append(train_epoch_loss)\n",
    "    train_accuracy.append(train_epoch_acc)\n",
    "    # Print progress\n",
    "    print('[Train #{}] Loss: {:.4f} Acc: {:.4f}% Time: {:.4f}s'.format(epoch, train_epoch_loss, train_epoch_acc, time.time() - start_time))\n",
    "    \"\"\" Validation Phase \"\"\"\n",
    "    model.eval()\n",
    "    with torch.no_grad():\n",
    "        running_loss = 0.\n",
    "        running_corrects = 0\n",
    "        for inputs, labels in tqdm(valid_dataloader, desc=\"Validation\"):\n",
    "            inputs, labels = inputs.to(device), labels.to(device)\n",
    "            outputs = model(inputs)\n",
    "            _, preds = torch.max(outputs, 1)\n",
    "            loss = criterion(outputs, labels)\n",
    "            running_loss += loss.item()\n",
    "            running_corrects += torch.sum(preds == labels.data).item()\n",
    "        valid_epoch_loss = running_loss / len(data_valid)\n",
    "        valid_epoch_acc = running_corrects / len(data_valid) * 100.\n",
    "        # Append result\n",
    "        valid_loss.append(valid_epoch_loss)\n",
    "        valid_accuracy.append(valid_epoch_acc)\n",
    "        # Print progress\n",
    "        print('[Valid #{}] Loss: {:.4f} Acc: {:.4f}% Time: {:.4f}s'.format(epoch, valid_epoch_loss, valid_epoch_acc, time.time() - start_time))\n",
    "    wandb.log({\"Train loss\": train_epoch_loss, \"Valid loss\": valid_epoch_loss,\n",
    "              \"Train acc\": train_epoch_acc, \"Valid acc\": valid_epoch_acc, \"epoch\": epoch})\n",
    "    save_checkpoint(model, optimizer, save_path, epoch)\n",
    "    scheduler.step()"
   ]
  },
  {
   "cell_type": "code",
   "execution_count": null,
   "id": "51181d48-d010-4a1f-9eb0-1ef6a22232d6",
   "metadata": {},
   "outputs": [],
   "source": [
    "# save_path = 'model/ResNet18.pth'\n",
    "# torch.save(model.state_dict(), save_path)"
   ]
  },
  {
   "cell_type": "code",
   "execution_count": null,
   "id": "a1d4a97e-ca80-453f-86ea-3c73480d6bce",
   "metadata": {},
   "outputs": [],
   "source": [
    "# Plot\n",
    "plt.figure(figsize=(6,6))\n",
    "plt.plot(np.arange(1,num_epochs), train_accuracy,'-o')\n",
    "plt.plot(np.arange(1,num_epochs), valid_accuracy,'-o')\n",
    "plt.xlabel('Epoch')\n",
    "plt.ylabel('Accuracy')\n",
    "plt.legend(['Train','Test'])\n",
    "plt.title('Cross Validation')\n",
    "plt.show()"
   ]
  },
  {
   "cell_type": "code",
   "execution_count": null,
   "id": "20c49103-5739-4e1f-ada3-85c960a284f3",
   "metadata": {},
   "outputs": [],
   "source": [
    "y_pred = []\n",
    "y_true = []\n",
    "total_correct = 0\n",
    "total_error = 0\n",
    "total_instances = 0\n",
    "model.to(device)\n",
    "model.eval()\n",
    "with torch.inference_mode():\n",
    "    for inputs, labels in tqdm(test_dataloader, desc=\"Testing\"):\n",
    "            inputs, labels = inputs.to(device), labels.to(device)\n",
    "            output = model(inputs)\n",
    "\n",
    "            output = (torch.max(torch.exp(output), 1)[1]).data.cpu().numpy()\n",
    "            y_pred.extend(output)\n",
    "\n",
    "            labels = labels.data.cpu().numpy()\n",
    "            y_true.extend(labels)\n",
    "            \n",
    "            correct_predictions = sum(output == labels).item()\n",
    "            error_predictions = sum(output != labels).item()\n",
    "            total_correct += correct_predictions\n",
    "            total_error += error_predictions\n",
    "            total_datapoints += len(inputs)       "
   ]
  },
  {
   "cell_type": "code",
   "execution_count": null,
   "id": "09e26cdb-4e5d-4647-adeb-c476905103f4",
   "metadata": {},
   "outputs": [],
   "source": [
    "print('accuracy: ', accuracy_score(y_true, y_pred))\n",
    "print('total correct: ', total_correct)\n",
    "print('total error: ', total_error)\n",
    "print('total datapoints: ', total_datapoints)"
   ]
  },
  {
   "cell_type": "code",
   "execution_count": null,
   "id": "2e58527e-6066-43b1-9720-9563786640af",
   "metadata": {},
   "outputs": [],
   "source": [
    "cf_matrix = confusion_matrix(y_true, y_pred)\n",
    "\n",
    "label_name = []\n",
    "for label in ImageFolder(data_dir).class_to_idx.items():\n",
    "    label_n = mapping['class'][label[0]]\n",
    "    label_name.append(label_n)"
   ]
  },
  {
   "cell_type": "code",
   "execution_count": null,
   "id": "461141f9-0113-4251-aaad-b00ebb5149b9",
   "metadata": {},
   "outputs": [],
   "source": [
    "df_cm = pd.DataFrame(cf_matrix / np.sum(cf_matrix, axis=1)[:, None], index = [i for i in label_name],\n",
    "                     columns = [i for i in label_name])\n",
    "\n",
    "df_cm.to_excel(\"cm_original.xlsx\",\n",
    "             sheet_name='Sheet_name_1') "
   ]
  }
 ],
 "metadata": {
  "kernelspec": {
   "display_name": "Python 3 (ipykernel)",
   "language": "python",
   "name": "python3"
  },
  "language_info": {
   "codemirror_mode": {
    "name": "ipython",
    "version": 3
   },
   "file_extension": ".py",
   "mimetype": "text/x-python",
   "name": "python",
   "nbconvert_exporter": "python",
   "pygments_lexer": "ipython3",
   "version": "3.10.12"
  }
 },
 "nbformat": 4,
 "nbformat_minor": 5
}
