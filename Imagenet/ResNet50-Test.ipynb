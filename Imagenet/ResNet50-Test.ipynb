{
 "cells": [
  {
   "cell_type": "code",
   "execution_count": 1,
   "id": "aa9b4555-3189-485c-8bc0-02e0f7d01c27",
   "metadata": {
    "tags": []
   },
   "outputs": [
    {
     "name": "stdout",
     "output_type": "stream",
     "text": [
      "cuda\n"
     ]
    }
   ],
   "source": [
    "import torch\n",
    "import torch.nn as nn\n",
    "import torch.optim as optim\n",
    "from torch.utils.data import Dataset, DataLoader\n",
    "from torchvision import datasets\n",
    "import torchvision.transforms as transforms\n",
    "from torchvision.datasets import ImageFolder\n",
    "import timm\n",
    "from torchvision.models import resnet50, ResNet50_Weights\n",
    "\n",
    "import matplotlib.pyplot as plt\n",
    "import pandas as pd\n",
    "import numpy as np\n",
    "from tqdm.notebook import tqdm\n",
    "from sklearn.metrics import confusion_matrix, accuracy_score, precision_score, recall_score, f1_score\n",
    "\n",
    "device = 'cuda' if torch.cuda.is_available() else 'cpu'\n",
    "print(device)"
   ]
  },
  {
   "cell_type": "code",
   "execution_count": 2,
   "id": "4e853116-54ba-498b-9497-3a311b5d9960",
   "metadata": {
    "tags": []
   },
   "outputs": [],
   "source": [
    "df = pd.read_csv('map_clsloc.txt', sep=\" \", names=[\"nwid\", \"id\", \"class\"]).set_index('nwid')\n",
    "mapping = df.to_dict()"
   ]
  },
  {
   "cell_type": "code",
   "execution_count": 3,
   "id": "2d975226-801a-4280-a129-3c872e18423c",
   "metadata": {
    "tags": []
   },
   "outputs": [],
   "source": [
    "data_dir = 'lim25-imagenet-image/'"
   ]
  },
  {
   "cell_type": "code",
   "execution_count": 4,
   "id": "944f0ef5-230e-4d85-8975-4617b647064f",
   "metadata": {
    "tags": []
   },
   "outputs": [],
   "source": [
    "class DILLEMADataset(Dataset):\n",
    "    def __init__(self, data_dir, transform=None):\n",
    "        self.data = ImageFolder(data_dir, transform=transform)\n",
    "    \n",
    "    def __len__(self):\n",
    "        return len(self.data)\n",
    "    \n",
    "    def __getitem__(self, idx):\n",
    "        return self.data[idx]\n",
    "   \n",
    "    @property\n",
    "    def classes(self):\n",
    "        return self.data.classes\n",
    "    \n",
    "    @property\n",
    "    def imgs(self):\n",
    "        return self.data.imgs\n",
    "    \n",
    "    @property\n",
    "    def class_to_idx(self):\n",
    "        return self.data.class_to_idx"
   ]
  },
  {
   "cell_type": "code",
   "execution_count": 5,
   "id": "20015c54-681c-412c-af73-967f31e1b2a9",
   "metadata": {
    "tags": []
   },
   "outputs": [],
   "source": [
    "preprocess = transforms.Compose([\n",
    "    transforms.Resize(256),\n",
    "    transforms.CenterCrop(224),\n",
    "    transforms.ToTensor(),\n",
    "    transforms.Normalize(mean=[0.485, 0.456, 0.406], std=[0.229, 0.224, 0.225]),\n",
    "])"
   ]
  },
  {
   "cell_type": "code",
   "execution_count": 6,
   "id": "3d30b13a-b348-4d48-8ddc-e4e84d33654a",
   "metadata": {
    "tags": []
   },
   "outputs": [],
   "source": [
    "dataset = DILLEMADataset(\n",
    "    data_dir=data_dir,\n",
    "    transform=preprocess\n",
    ")"
   ]
  },
  {
   "cell_type": "code",
   "execution_count": 7,
   "id": "25173673-3014-470f-a75d-405d746f4da4",
   "metadata": {
    "tags": []
   },
   "outputs": [
    {
     "data": {
      "text/plain": [
       "25000"
      ]
     },
     "execution_count": 7,
     "metadata": {},
     "output_type": "execute_result"
    }
   ],
   "source": [
    "len(dataset)"
   ]
  },
  {
   "cell_type": "code",
   "execution_count": 8,
   "id": "d9a87fc8-c461-436f-8664-67326c7ae297",
   "metadata": {
    "tags": []
   },
   "outputs": [
    {
     "name": "stdout",
     "output_type": "stream",
     "text": [
      "2 torch.Size([3, 224, 224])\n"
     ]
    },
    {
     "data": {
      "text/plain": [
       "tensor([[[-0.0629, -0.0801, -0.1314,  ...,  0.6906,  0.4508,  0.3823],\n",
       "         [-0.1314, -0.1486, -0.2513,  ...,  0.9474,  0.5364,  0.3138],\n",
       "         [-0.3027, -0.3369, -0.4397,  ...,  0.5193,  0.3823,  0.3823],\n",
       "         ...,\n",
       "         [ 1.7352,  1.7523,  1.7523,  ...,  0.3481,  0.0398,  0.0741],\n",
       "         [ 1.7180,  1.7180,  1.7180,  ...,  0.4508, -0.0116,  0.0227],\n",
       "         [ 1.7009,  1.7180,  1.7009,  ...,  0.5364, -0.0972, -0.2342]],\n",
       "\n",
       "        [[ 0.5378,  0.5203,  0.4678,  ...,  1.0105,  0.8179,  0.7829],\n",
       "         [ 0.4853,  0.4678,  0.3627,  ...,  1.2906,  0.8880,  0.6954],\n",
       "         [ 0.3102,  0.2752,  0.1702,  ...,  0.8354,  0.7479,  0.7829],\n",
       "         ...,\n",
       "         [ 1.8859,  1.9034,  1.9034,  ...,  0.5028,  0.1877,  0.2227],\n",
       "         [ 1.8683,  1.8683,  1.8683,  ...,  0.6078,  0.1352,  0.1702],\n",
       "         [ 1.8508,  1.8683,  1.8508,  ...,  0.6954,  0.0476, -0.0749]],\n",
       "\n",
       "        [[ 0.7751,  0.7576,  0.7054,  ...,  1.2631,  1.0017,  0.9494],\n",
       "         [ 0.7228,  0.7054,  0.6008,  ...,  1.5245,  1.1237,  0.9145],\n",
       "         [ 0.5485,  0.5136,  0.4091,  ...,  1.0888,  1.0191,  1.0365],\n",
       "         ...,\n",
       "         [ 2.1868,  2.2043,  2.2043,  ...,  0.8099,  0.4439,  0.4614],\n",
       "         [ 2.1694,  2.1694,  2.1694,  ...,  0.8971,  0.3916,  0.4091],\n",
       "         [ 2.1520,  2.1694,  2.1520,  ...,  0.9842,  0.3219,  0.1476]]])"
      ]
     },
     "execution_count": 8,
     "metadata": {},
     "output_type": "execute_result"
    }
   ],
   "source": [
    "image, label = dataset[50]\n",
    "print(label, image.shape)\n",
    "image"
   ]
  },
  {
   "cell_type": "code",
   "execution_count": 9,
   "id": "e738c128-316c-4bc9-a1c0-cb12ee8a5396",
   "metadata": {
    "tags": []
   },
   "outputs": [],
   "source": [
    "idx_to_class = {v: k for k, v in dataset.class_to_idx.items()}"
   ]
  },
  {
   "cell_type": "code",
   "execution_count": 10,
   "id": "83e037a7-05b2-483c-b162-b1a156a049e4",
   "metadata": {
    "tags": []
   },
   "outputs": [],
   "source": [
    "dataloader = DataLoader(dataset, batch_size=100, num_workers=8, shuffle=False)"
   ]
  },
  {
   "cell_type": "code",
   "execution_count": 11,
   "id": "0f987550-58b6-4835-846b-e8e81bf869a2",
   "metadata": {
    "tags": []
   },
   "outputs": [
    {
     "name": "stdout",
     "output_type": "stream",
     "text": [
      "tensor([0, 0, 0, 0, 0, 0, 0, 0, 0, 0, 0, 0, 0, 0, 0, 0, 0, 0, 0, 0, 0, 0, 0, 0,\n",
      "        0, 1, 1, 1, 1, 1, 1, 1, 1, 1, 1, 1, 1, 1, 1, 1, 1, 1, 1, 1, 1, 1, 1, 1,\n",
      "        1, 1, 2, 2, 2, 2, 2, 2, 2, 2, 2, 2, 2, 2, 2, 2, 2, 2, 2, 2, 2, 2, 2, 2,\n",
      "        2, 2, 2, 3, 3, 3, 3, 3, 3, 3, 3, 3, 3, 3, 3, 3, 3, 3, 3, 3, 3, 3, 3, 3,\n",
      "        3, 3, 3, 3])\n"
     ]
    }
   ],
   "source": [
    "for images, labels in dataloader:\n",
    "    break\n",
    "print(labels)"
   ]
  },
  {
   "cell_type": "code",
   "execution_count": 12,
   "id": "b7098376-0fe8-487e-baae-f83bd43992a5",
   "metadata": {
    "tags": []
   },
   "outputs": [],
   "source": [
    "# Initialize model\n",
    "weights = ResNet50_Weights.DEFAULT\n",
    "model = resnet50(weights=weights)"
   ]
  },
  {
   "cell_type": "code",
   "execution_count": 13,
   "id": "20c49103-5739-4e1f-ada3-85c960a284f3",
   "metadata": {
    "tags": []
   },
   "outputs": [
    {
     "data": {
      "application/vnd.jupyter.widget-view+json": {
       "model_id": "0b302bd1e3894f3c86c09980ca7970fb",
       "version_major": 2,
       "version_minor": 0
      },
      "text/plain": [
       "Testing:   0%|          | 0/250 [00:00<?, ?it/s]"
      ]
     },
     "metadata": {},
     "output_type": "display_data"
    }
   ],
   "source": [
    "y_pred = []\n",
    "y_true = []\n",
    "total_correct = 0\n",
    "total_error = 0\n",
    "total_datapoints = 0\n",
    "model.to(device)\n",
    "model.eval()\n",
    "with torch.inference_mode():\n",
    "    for inputs, labels in tqdm(dataloader, desc=\"Testing\"):\n",
    "            inputs, labels = inputs.to(device), labels.to(device)\n",
    "            output = model(inputs)\n",
    "\n",
    "            output = (torch.max(torch.exp(output), 1)[1]).data.cpu().numpy()\n",
    "            y_pred.extend(output)\n",
    "\n",
    "            labels = labels.data.cpu().numpy()\n",
    "            y_true.extend(labels)\n",
    "            \n",
    "            correct_predictions = sum(output == labels).item()\n",
    "            error_predictions = sum(output != labels).item()\n",
    "            total_correct += correct_predictions\n",
    "            total_error += error_predictions\n",
    "            total_datapoints += len(inputs)       "
   ]
  },
  {
   "cell_type": "code",
   "execution_count": 14,
   "id": "09e26cdb-4e5d-4647-adeb-c476905103f4",
   "metadata": {
    "tags": []
   },
   "outputs": [
    {
     "name": "stdout",
     "output_type": "stream",
     "text": [
      "accuracy:  0.89796\n",
      "total correct:  22449\n",
      "total error:  2551\n",
      "total datapoints:  25000\n"
     ]
    }
   ],
   "source": [
    "print('accuracy: ', accuracy_score(y_true, y_pred))\n",
    "print('total correct: ', total_correct)\n",
    "print('total error: ', total_error)\n",
    "print('total datapoints: ', total_datapoints)"
   ]
  },
  {
   "cell_type": "code",
   "execution_count": 15,
   "id": "d54eb6ef-98c7-468a-ab95-1813f9694cc9",
   "metadata": {
    "tags": []
   },
   "outputs": [
    {
     "data": {
      "text/html": [
       "<div>\n",
       "<style scoped>\n",
       "    .dataframe tbody tr th:only-of-type {\n",
       "        vertical-align: middle;\n",
       "    }\n",
       "\n",
       "    .dataframe tbody tr th {\n",
       "        vertical-align: top;\n",
       "    }\n",
       "\n",
       "    .dataframe thead th {\n",
       "        text-align: right;\n",
       "    }\n",
       "</style>\n",
       "<table border=\"1\" class=\"dataframe\">\n",
       "  <thead>\n",
       "    <tr style=\"text-align: right;\">\n",
       "      <th></th>\n",
       "      <th>y_true</th>\n",
       "      <th>y_pred</th>\n",
       "    </tr>\n",
       "  </thead>\n",
       "  <tbody>\n",
       "    <tr>\n",
       "      <th>0</th>\n",
       "      <td>0</td>\n",
       "      <td>0</td>\n",
       "    </tr>\n",
       "    <tr>\n",
       "      <th>1</th>\n",
       "      <td>0</td>\n",
       "      <td>0</td>\n",
       "    </tr>\n",
       "    <tr>\n",
       "      <th>2</th>\n",
       "      <td>0</td>\n",
       "      <td>0</td>\n",
       "    </tr>\n",
       "    <tr>\n",
       "      <th>3</th>\n",
       "      <td>0</td>\n",
       "      <td>0</td>\n",
       "    </tr>\n",
       "    <tr>\n",
       "      <th>4</th>\n",
       "      <td>0</td>\n",
       "      <td>389</td>\n",
       "    </tr>\n",
       "  </tbody>\n",
       "</table>\n",
       "</div>"
      ],
      "text/plain": [
       "   y_true  y_pred\n",
       "0       0       0\n",
       "1       0       0\n",
       "2       0       0\n",
       "3       0       0\n",
       "4       0     389"
      ]
     },
     "execution_count": 15,
     "metadata": {},
     "output_type": "execute_result"
    }
   ],
   "source": [
    "columns =['y_true', 'y_pred']\n",
    "lst = []\n",
    "\n",
    "for i in range(len(dataset)):\n",
    "    true = y_true[i]\n",
    "    pred = y_pred[i]\n",
    "    lst.append([true, pred])\n",
    "df_true_pred = pd.DataFrame(lst, columns=columns)\n",
    "df_true_pred.to_excel(\"ResNet50_test_true_pred_ori_1.xlsx\",\n",
    "             sheet_name='Sheet_name_1') \n",
    "df_true_pred.head()"
   ]
  },
  {
   "cell_type": "code",
   "execution_count": 2,
   "id": "0b4faeec-dabe-4e45-b786-81223efbe1c3",
   "metadata": {
    "tags": []
   },
   "outputs": [],
   "source": [
    "df_true_pred = pd.read_excel(\"ResNet50_test_true_pred_ori_1.xlsx\", sheet_name='Sheet_name_1', index_col=0) \n",
    "y_true = df_true_pred.iloc[:,0].tolist()\n",
    "y_pred = df_true_pred.iloc[:,1].tolist()"
   ]
  },
  {
   "cell_type": "code",
   "execution_count": 3,
   "id": "c4d8e198-af0b-4450-8b97-a5cf35fabcd1",
   "metadata": {
    "tags": []
   },
   "outputs": [
    {
     "name": "stdout",
     "output_type": "stream",
     "text": [
      "accuracy:  0.89796\n",
      "precision:  0.9049736900580836\n",
      "recall:  0.8979600000000001\n",
      "f1:  0.8970495428765787\n"
     ]
    }
   ],
   "source": [
    "print('accuracy: ', accuracy_score(y_true, y_pred))\n",
    "print('precision: ', precision_score(y_true, y_pred, average=\"macro\"))\n",
    "print('recall: ', recall_score(y_true, y_pred, average=\"macro\"))\n",
    "print('f1: ', f1_score(y_true, y_pred, average=\"macro\"))"
   ]
  },
  {
   "cell_type": "code",
   "execution_count": 19,
   "id": "2e58527e-6066-43b1-9720-9563786640af",
   "metadata": {
    "tags": []
   },
   "outputs": [],
   "source": [
    "cf_matrix = confusion_matrix(y_true, y_pred)\n",
    "\n",
    "label_name = []\n",
    "for label in dataset.class_to_idx.items():\n",
    "    label_n = mapping['class'][label[0]]\n",
    "    label_name.append(label_n)"
   ]
  },
  {
   "cell_type": "code",
   "execution_count": 20,
   "id": "461141f9-0113-4251-aaad-b00ebb5149b9",
   "metadata": {
    "tags": []
   },
   "outputs": [],
   "source": [
    "df_cm = pd.DataFrame(cf_matrix, index = [i for i in label_name],\n",
    "                     columns = [i for i in label_name])\n",
    "\n",
    "df_cm.to_excel(\"ResNet50_cm_original_1.xlsx\",\n",
    "             sheet_name='Sheet_name_1') "
   ]
  },
  {
   "cell_type": "code",
   "execution_count": 21,
   "id": "b2f66e5b-2e3f-494b-8b8c-d966496ffab4",
   "metadata": {
    "tags": []
   },
   "outputs": [],
   "source": [
    "df_cm_percentage = pd.DataFrame(cf_matrix / np.sum(cf_matrix, axis=1)[:, None]*100, index = [i for i in label_name],\n",
    "                     columns = [i for i in label_name])\n",
    "\n",
    "df_cm_percentage.to_excel(\"ResNet50_cm_original_percentage_1.xlsx\",\n",
    "             sheet_name='Sheet_name_1') "
   ]
  },
  {
   "cell_type": "code",
   "execution_count": 22,
   "id": "70f1bbd3-d0f3-453a-9aa5-cbe3d9628dfd",
   "metadata": {
    "tags": []
   },
   "outputs": [],
   "source": [
    "import pandas as pd\n",
    "\n",
    "excel_data_df = pd.read_excel(\"ResNet50_cm_original_1.xlsx\", sheet_name='Sheet_name_1') "
   ]
  },
  {
   "cell_type": "code",
   "execution_count": 23,
   "id": "a83d96ff-99be-4ec3-b834-8ead7fd5a3d4",
   "metadata": {
    "tags": []
   },
   "outputs": [
    {
     "data": {
      "text/html": [
       "<div>\n",
       "<style scoped>\n",
       "    .dataframe tbody tr th:only-of-type {\n",
       "        vertical-align: middle;\n",
       "    }\n",
       "\n",
       "    .dataframe tbody tr th {\n",
       "        vertical-align: top;\n",
       "    }\n",
       "\n",
       "    .dataframe thead th {\n",
       "        text-align: right;\n",
       "    }\n",
       "</style>\n",
       "<table border=\"1\" class=\"dataframe\">\n",
       "  <thead>\n",
       "    <tr style=\"text-align: right;\">\n",
       "      <th></th>\n",
       "      <th>Unnamed: 0</th>\n",
       "      <th>tench</th>\n",
       "      <th>goldfish</th>\n",
       "      <th>great_white_shark</th>\n",
       "      <th>tiger_shark</th>\n",
       "      <th>hammerhead</th>\n",
       "      <th>electric_ray</th>\n",
       "      <th>stingray</th>\n",
       "      <th>cock</th>\n",
       "      <th>hen</th>\n",
       "      <th>...</th>\n",
       "      <th>buckeye</th>\n",
       "      <th>coral_fungus</th>\n",
       "      <th>agaric</th>\n",
       "      <th>gyromitra</th>\n",
       "      <th>stinkhorn</th>\n",
       "      <th>earthstar</th>\n",
       "      <th>hen-of-the-woods</th>\n",
       "      <th>bolete</th>\n",
       "      <th>ear</th>\n",
       "      <th>toilet_tissue</th>\n",
       "    </tr>\n",
       "  </thead>\n",
       "  <tbody>\n",
       "    <tr>\n",
       "      <th>0</th>\n",
       "      <td>tench</td>\n",
       "      <td>23</td>\n",
       "      <td>0</td>\n",
       "      <td>0</td>\n",
       "      <td>0</td>\n",
       "      <td>0</td>\n",
       "      <td>0</td>\n",
       "      <td>0</td>\n",
       "      <td>0</td>\n",
       "      <td>0</td>\n",
       "      <td>...</td>\n",
       "      <td>0</td>\n",
       "      <td>0</td>\n",
       "      <td>0</td>\n",
       "      <td>0</td>\n",
       "      <td>0</td>\n",
       "      <td>0</td>\n",
       "      <td>0</td>\n",
       "      <td>0</td>\n",
       "      <td>0</td>\n",
       "      <td>0</td>\n",
       "    </tr>\n",
       "    <tr>\n",
       "      <th>1</th>\n",
       "      <td>goldfish</td>\n",
       "      <td>0</td>\n",
       "      <td>25</td>\n",
       "      <td>0</td>\n",
       "      <td>0</td>\n",
       "      <td>0</td>\n",
       "      <td>0</td>\n",
       "      <td>0</td>\n",
       "      <td>0</td>\n",
       "      <td>0</td>\n",
       "      <td>...</td>\n",
       "      <td>0</td>\n",
       "      <td>0</td>\n",
       "      <td>0</td>\n",
       "      <td>0</td>\n",
       "      <td>0</td>\n",
       "      <td>0</td>\n",
       "      <td>0</td>\n",
       "      <td>0</td>\n",
       "      <td>0</td>\n",
       "      <td>0</td>\n",
       "    </tr>\n",
       "    <tr>\n",
       "      <th>2</th>\n",
       "      <td>great_white_shark</td>\n",
       "      <td>0</td>\n",
       "      <td>0</td>\n",
       "      <td>24</td>\n",
       "      <td>1</td>\n",
       "      <td>0</td>\n",
       "      <td>0</td>\n",
       "      <td>0</td>\n",
       "      <td>0</td>\n",
       "      <td>0</td>\n",
       "      <td>...</td>\n",
       "      <td>0</td>\n",
       "      <td>0</td>\n",
       "      <td>0</td>\n",
       "      <td>0</td>\n",
       "      <td>0</td>\n",
       "      <td>0</td>\n",
       "      <td>0</td>\n",
       "      <td>0</td>\n",
       "      <td>0</td>\n",
       "      <td>0</td>\n",
       "    </tr>\n",
       "    <tr>\n",
       "      <th>3</th>\n",
       "      <td>tiger_shark</td>\n",
       "      <td>0</td>\n",
       "      <td>0</td>\n",
       "      <td>0</td>\n",
       "      <td>25</td>\n",
       "      <td>0</td>\n",
       "      <td>0</td>\n",
       "      <td>0</td>\n",
       "      <td>0</td>\n",
       "      <td>0</td>\n",
       "      <td>...</td>\n",
       "      <td>0</td>\n",
       "      <td>0</td>\n",
       "      <td>0</td>\n",
       "      <td>0</td>\n",
       "      <td>0</td>\n",
       "      <td>0</td>\n",
       "      <td>0</td>\n",
       "      <td>0</td>\n",
       "      <td>0</td>\n",
       "      <td>0</td>\n",
       "    </tr>\n",
       "    <tr>\n",
       "      <th>4</th>\n",
       "      <td>hammerhead</td>\n",
       "      <td>0</td>\n",
       "      <td>0</td>\n",
       "      <td>0</td>\n",
       "      <td>0</td>\n",
       "      <td>25</td>\n",
       "      <td>0</td>\n",
       "      <td>0</td>\n",
       "      <td>0</td>\n",
       "      <td>0</td>\n",
       "      <td>...</td>\n",
       "      <td>0</td>\n",
       "      <td>0</td>\n",
       "      <td>0</td>\n",
       "      <td>0</td>\n",
       "      <td>0</td>\n",
       "      <td>0</td>\n",
       "      <td>0</td>\n",
       "      <td>0</td>\n",
       "      <td>0</td>\n",
       "      <td>0</td>\n",
       "    </tr>\n",
       "  </tbody>\n",
       "</table>\n",
       "<p>5 rows × 1001 columns</p>\n",
       "</div>"
      ],
      "text/plain": [
       "          Unnamed: 0  tench  goldfish  great_white_shark  tiger_shark  \\\n",
       "0              tench     23         0                  0            0   \n",
       "1           goldfish      0        25                  0            0   \n",
       "2  great_white_shark      0         0                 24            1   \n",
       "3        tiger_shark      0         0                  0           25   \n",
       "4         hammerhead      0         0                  0            0   \n",
       "\n",
       "   hammerhead  electric_ray  stingray  cock  hen  ...  buckeye  coral_fungus  \\\n",
       "0           0             0         0     0    0  ...        0             0   \n",
       "1           0             0         0     0    0  ...        0             0   \n",
       "2           0             0         0     0    0  ...        0             0   \n",
       "3           0             0         0     0    0  ...        0             0   \n",
       "4          25             0         0     0    0  ...        0             0   \n",
       "\n",
       "   agaric  gyromitra  stinkhorn  earthstar  hen-of-the-woods  bolete  ear  \\\n",
       "0       0          0          0          0                 0       0    0   \n",
       "1       0          0          0          0                 0       0    0   \n",
       "2       0          0          0          0                 0       0    0   \n",
       "3       0          0          0          0                 0       0    0   \n",
       "4       0          0          0          0                 0       0    0   \n",
       "\n",
       "   toilet_tissue  \n",
       "0              0  \n",
       "1              0  \n",
       "2              0  \n",
       "3              0  \n",
       "4              0  \n",
       "\n",
       "[5 rows x 1001 columns]"
      ]
     },
     "execution_count": 23,
     "metadata": {},
     "output_type": "execute_result"
    }
   ],
   "source": [
    "excel_data_df.head()"
   ]
  },
  {
   "cell_type": "code",
   "execution_count": 24,
   "id": "ecc65896-3c48-484b-ac4b-6ed3d1039186",
   "metadata": {
    "tags": []
   },
   "outputs": [
    {
     "data": {
      "text/html": [
       "<div>\n",
       "<style scoped>\n",
       "    .dataframe tbody tr th:only-of-type {\n",
       "        vertical-align: middle;\n",
       "    }\n",
       "\n",
       "    .dataframe tbody tr th {\n",
       "        vertical-align: top;\n",
       "    }\n",
       "\n",
       "    .dataframe thead th {\n",
       "        text-align: right;\n",
       "    }\n",
       "</style>\n",
       "<table border=\"1\" class=\"dataframe\">\n",
       "  <thead>\n",
       "    <tr style=\"text-align: right;\">\n",
       "      <th></th>\n",
       "      <th>label</th>\n",
       "      <th>name</th>\n",
       "      <th>pred</th>\n",
       "      <th>T/F</th>\n",
       "    </tr>\n",
       "  </thead>\n",
       "  <tbody>\n",
       "    <tr>\n",
       "      <th>0</th>\n",
       "      <td>0</td>\n",
       "      <td>lim25-imagenet-image/n01440764/n01440764_10026...</td>\n",
       "      <td>0</td>\n",
       "      <td>True</td>\n",
       "    </tr>\n",
       "    <tr>\n",
       "      <th>1</th>\n",
       "      <td>0</td>\n",
       "      <td>lim25-imagenet-image/n01440764/n01440764_10027...</td>\n",
       "      <td>0</td>\n",
       "      <td>True</td>\n",
       "    </tr>\n",
       "    <tr>\n",
       "      <th>2</th>\n",
       "      <td>0</td>\n",
       "      <td>lim25-imagenet-image/n01440764/n01440764_10029...</td>\n",
       "      <td>0</td>\n",
       "      <td>True</td>\n",
       "    </tr>\n",
       "    <tr>\n",
       "      <th>3</th>\n",
       "      <td>0</td>\n",
       "      <td>lim25-imagenet-image/n01440764/n01440764_10040...</td>\n",
       "      <td>0</td>\n",
       "      <td>True</td>\n",
       "    </tr>\n",
       "    <tr>\n",
       "      <th>4</th>\n",
       "      <td>0</td>\n",
       "      <td>lim25-imagenet-image/n01440764/n01440764_10042...</td>\n",
       "      <td>389</td>\n",
       "      <td>False</td>\n",
       "    </tr>\n",
       "  </tbody>\n",
       "</table>\n",
       "</div>"
      ],
      "text/plain": [
       "   label                                               name  pred    T/F\n",
       "0      0  lim25-imagenet-image/n01440764/n01440764_10026...     0   True\n",
       "1      0  lim25-imagenet-image/n01440764/n01440764_10027...     0   True\n",
       "2      0  lim25-imagenet-image/n01440764/n01440764_10029...     0   True\n",
       "3      0  lim25-imagenet-image/n01440764/n01440764_10040...     0   True\n",
       "4      0  lim25-imagenet-image/n01440764/n01440764_10042...   389  False"
      ]
     },
     "execution_count": 24,
     "metadata": {},
     "output_type": "execute_result"
    }
   ],
   "source": [
    "columns =['label', 'name', 'pred', 'T/F']\n",
    "lst = []\n",
    "\n",
    "for i in range(len(dataset)):\n",
    "    label = dataset.imgs[i][1]\n",
    "    name = dataset.imgs[i][0]\n",
    "    prediction = y_pred[i]\n",
    "    if label == prediction:\n",
    "        value = 'True'\n",
    "    else :\n",
    "        value = 'False'\n",
    "    lst.append([label, name, prediction, value])\n",
    "\n",
    "df_list = pd.DataFrame(lst, columns=columns)\n",
    "df_list.to_excel(\"ResNet50_list_test_ori_1.xlsx\",\n",
    "             sheet_name='Sheet_name_1') \n",
    "df_list.head()"
   ]
  },
  {
   "cell_type": "code",
   "execution_count": null,
   "id": "55469179-0ec1-45bb-85b5-7e43faf5d74e",
   "metadata": {},
   "outputs": [],
   "source": []
  }
 ],
 "metadata": {
  "kernelspec": {
   "display_name": "Python 3 (ipykernel)",
   "language": "python",
   "name": "python3"
  },
  "language_info": {
   "codemirror_mode": {
    "name": "ipython",
    "version": 3
   },
   "file_extension": ".py",
   "mimetype": "text/x-python",
   "name": "python",
   "nbconvert_exporter": "python",
   "pygments_lexer": "ipython3",
   "version": "3.10.12"
  }
 },
 "nbformat": 4,
 "nbformat_minor": 5
}
